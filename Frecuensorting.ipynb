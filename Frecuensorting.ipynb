{
 "cells": [
  {
   "cell_type": "markdown",
   "metadata": {},
   "source": [
    "### Idea General:\n",
    "#### Usando datos de compras de hoteles (de Pentaho), adecuar el sorting de hoteles a las características más relevantes de cada tipo de búsqueda, buscando maximizar la probabilidad de compra. Usar variables como día de ci, ratio finde, destino, traveler type, gb/night"
   ]
  },
  {
   "cell_type": "code",
   "execution_count": null,
   "metadata": {
    "collapsed": true
   },
   "outputs": [],
   "source": [
    "from pandas import DataFrame\n",
    "import pandas as pd\n",
    "import numpy as np\n",
    "import statsmodels.formula.api as sm\n",
    "import matplotlib.pyplot as plt\n",
    "from sklearn.metrics import confusion_matrix, classification_report\n",
    "from sklearn import tree, naive_bayes, grid_search\n",
    "\n",
    "from sklearn.grid_search import GridSearchCV\n",
    "from sklearn.naive_bayes import GaussianNB\n",
    "from sklearn.svm import SVC\n",
    "from sklearn import preprocessing\n",
    "\n",
    "from sklearn.cluster import KMeans\n",
    "\n",
    "from scipy import stats\n",
    "\n",
    "import random\n",
    "import re\n",
    "import time\n",
    "import datetime\n",
    "from datetime import datetime, timedelta, date\n",
    "\n",
    "from time import time\n",
    "import matplotlib.pyplot as plt\n",
    "get_ipython().magic(u'matplotlib inline')\n",
    "from sklearn import metrics\n",
    "from sklearn.cluster import KMeans\n",
    "from sklearn.datasets import load_digits # trae un dataset para usar como ejemplo\n",
    "from sklearn.decomposition import PCA\n",
    "from sklearn.preprocessing import scale"
   ]
  },
  {
   "cell_type": "code",
   "execution_count": null,
   "metadata": {
    "collapsed": true
   },
   "outputs": [],
   "source": [
    "# importo el csv y le pido que directamente me pase a formato de fecha determinadas columnas\n",
    "BD= pd.read_csv(\"sortHotels.csv\", delimiter=\";\", decimal=\".\", parse_dates=['id_dim_tiempo_checkin', 'id_dim_tiempo_checkout',\n",
    "                                                                          'id_dim_tiempo_reserva']  )"
   ]
  },
  {
   "cell_type": "code",
   "execution_count": null,
   "metadata": {
    "collapsed": true
   },
   "outputs": [],
   "source": [
    "# paso a dataframe y veo que columnas traje de Pentaho\n",
    "BD = DataFrame(BD)\n",
    "\n",
    "BD.columns"
   ]
  },
  {
   "cell_type": "code",
   "execution_count": null,
   "metadata": {
    "collapsed": true
   },
   "outputs": [],
   "source": [
    "# truncate la duracion ya que la uso mas adelante como integer, por las dudas\n",
    "BD['duracion'] = (BD['duracion']).apply(np.floor)"
   ]
  },
  {
   "cell_type": "code",
   "execution_count": null,
   "metadata": {
    "collapsed": true
   },
   "outputs": [],
   "source": [
    "# calculo la anticipacion de compra\n",
    "BD['anticipacion'] = BD['id_dim_tiempo_checkin'] - BD['id_dim_tiempo_reserva']\n",
    "\n",
    "# paso del formato timedelta (diferencia de dias) a integer\n",
    "BD['anticipacion'] = BD['anticipacion'].dt.days\n",
    "# ver https://docs.python.org/3/library/datetime.html#timedelta-objects"
   ]
  },
  {
   "cell_type": "code",
   "execution_count": null,
   "metadata": {
    "collapsed": true
   },
   "outputs": [],
   "source": [
    "# calculo gasto final por noche por habitacion\n",
    "BD['gb_roomnight'] = BD['gb'] / BD['canthabitaciones'] / BD['duracion']"
   ]
  },
  {
   "cell_type": "code",
   "execution_count": null,
   "metadata": {
    "collapsed": true
   },
   "outputs": [],
   "source": [
    "# veo que hay en tipos de cliente\n",
    "# 4: \"AF\" ; 5:\"B2B\" ; 6:\"B2C\" ; 0:\"N/A\" ; 7:\"eargolo@hotmail.com\"\n",
    " \n",
    "#BD['id_dim_tipocliente'].describe()\n",
    "\n",
    "# filtro la data. me quedo solo con Arg y con clientes no-agencia ni corporate\n",
    "BD = BD[(BD['id_dim_pais']==22) & (BD['id_dim_tipocliente']==6)]"
   ]
  },
  {
   "cell_type": "code",
   "execution_count": null,
   "metadata": {
    "collapsed": true
   },
   "outputs": [],
   "source": [
    "# Traveler Type\n",
    "\n",
    "# Create a list to store the data\n",
    "traveler_type = []\n",
    "\n",
    "# For each row in the bookings table,\n",
    "for index, row in BD.iterrows(): # por que iterrows?? ver http://stackoverflow.com/questions/16476924/how-to-iterate-over-rows-in-a-dataframe\n",
    "    if row['Cantidad.Adt'] == 1 and row['Cantidad.Chd'] == 0 and row['Cantidad.Inf'] == 0:\n",
    "        traveler_type.append(\"single\")\n",
    "    elif row['Cantidad.Adt'] == 2 and row['Cantidad.Chd'] == 0 and row['Cantidad.Inf'] == 0:\n",
    "        traveler_type.append(\"couple\")\n",
    "    elif row['Cantidad.Adt'] > 2 and row['Cantidad.Chd'] == 0 and row['Cantidad.Inf'] == 0:\n",
    "        traveler_type.append(\"adult group\")\n",
    "    else:\n",
    "        traveler_type.append(\"family\")\n",
    "\n",
    "# Create a column from the list\n",
    "BD['traveler'] = traveler_type"
   ]
  },
  {
   "cell_type": "code",
   "execution_count": null,
   "metadata": {
    "collapsed": true
   },
   "outputs": [],
   "source": [
    "### TAG MAILS CORPORATE Y CONSUMER\n",
    "\n",
    "#Index de mail type\n",
    "BD['mail_type'] = BD.semailprincipal.str.contains('yahoo|gmail|uol|outlook|hotmail|live|fibertel|arnet|bol.com|ig.com|superig|terra|globo|outlook|icloud|me.com|speedy|arnet|msn|ciudad|ymail|aol|superig|ibest', \n",
    "             flags=re.IGNORECASE, regex=True, na=False)\n",
    "\n",
    "# mas sobre regular expressions: https://docs.python.org/3/library/re.html#module-re\n",
    "\n",
    "print BD['mail_type'].describe() # el 84% de las observaciones es de alguna cuenta de gmail, hotmail, yahoo, etc.\n",
    "\n",
    "# Pongo un tag\n",
    "# Create a list to store the data\n",
    "mail_classif = []\n",
    "\n",
    "# For each row in the bookings table,\n",
    "for index, row in BD.iterrows(): # por que iterrows?? ver http://stackoverflow.com/questions/16476924/how-to-iterate-over-rows-in-a-dataframe\n",
    "    if row['mail_type'] == True:\n",
    "        mail_classif.append(\"consumer_mail\")\n",
    "    else:\n",
    "        mail_classif.append(\"corporate_mail\")\n",
    "\n",
    "# Create a column from the list\n",
    "BD['mail_type'] = mail_classif"
   ]
  },
  {
   "cell_type": "markdown",
   "metadata": {},
   "source": [
    "### Limpio outliers"
   ]
  },
  {
   "cell_type": "code",
   "execution_count": null,
   "metadata": {
    "collapsed": true
   },
   "outputs": [],
   "source": [
    "BD.describe()"
   ]
  },
  {
   "cell_type": "code",
   "execution_count": null,
   "metadata": {
    "collapsed": true
   },
   "outputs": [],
   "source": [
    "# si la anticipacion es -1, pongo 0. Si es <1, lo excluyo\n",
    "BD['anticipacion'] = BD['anticipacion'].apply(lambda x: 0 if (x == -1) else x)\n",
    "BD = BD.loc[BD['anticipacion'] >= 0]"
   ]
  },
  {
   "cell_type": "code",
   "execution_count": null,
   "metadata": {
    "collapsed": true
   },
   "outputs": [],
   "source": [
    "# elijo que features / columnas quiero limpiar de outliers y cuales no hace falta y quiero conservar\n",
    "columns = BD.columns\n",
    "features_w_outliers = [column for column in columns if column in ('anticipacion','duracion','gb_roomnight',\n",
    "                                                                  'Cantidad.Adt','Cantidad.Chd','Cantidad.Inf' )]\n",
    "other_columns_to_keep = [column for column in columns if column in ('canthabitaciones', 'id_dim_tiempo_checkin',\n",
    "                                                                  'id_dim_tiempo_checkout', 'id_dim_tiempo_reserva', 'gb',\n",
    "                                                                  'mail_type', 'traveler', 'hoteldespegarid')]"
   ]
  },
  {
   "cell_type": "code",
   "execution_count": null,
   "metadata": {
    "collapsed": true
   },
   "outputs": [],
   "source": [
    "# funcion que me deja solo las columnas que me interesan y a la vez saca outliers de las que elijo\n",
    "\n",
    "def filterOutliers(bookings, features_to_filter, other_feats_to_keep):\n",
    "    \n",
    "    #print bookings[features_to_filter].describe()\n",
    "    \n",
    "    for column in bookings:\n",
    "        if column in features_to_filter:\n",
    "            X_col = bookings[column] # se queda solo con las columnas que elegi para evaluar outliers\n",
    "            # se queda solo con las obs de TODAS LAS COLUMNAS de bookings donde esas columnas cumplen la siguiente condicion.\n",
    "            bookings = bookings[np.abs(X_col - X_col.mean()) <= (3 * X_col.std())] \n",
    "            \n",
    "    return bookings[features_to_filter + other_feats_to_keep]\n",
    "\n",
    "data = filterOutliers(BD, features_w_outliers, other_columns_to_keep)\n",
    "\n",
    "\n",
    "# ### Variables de fechas"
   ]
  },
  {
   "cell_type": "code",
   "execution_count": null,
   "metadata": {
    "collapsed": true
   },
   "outputs": [],
   "source": [
    "def funcMagica(row):\n",
    "    if row['dia_compra'] == 7:\n",
    "        return 1\n",
    "    elif row['dia_compra'] + row['resto'] == 7:\n",
    "        return 1\n",
    "    elif row['dia_compra'] + row['resto']  > 7:\n",
    "        return 2\n",
    "    else:\n",
    "        return 0\n",
    "\n",
    "def ratioFinde(actions):\n",
    "    \n",
    "    finde_columns = DataFrame()\n",
    "    \n",
    "    finde_columns['id_dim_tiempo_reserva'] =  actions['id_dim_tiempo_reserva']\n",
    "    finde_columns['duracion'] = actions['duracion']\n",
    "    \n",
    "    # esto me dice el numero de dia de semana, del 0 al 6, empezando por el lunes = 1 y terminando por domingo = 7\n",
    "    # date.isoweekday() returns the day of the week as an integer, where Monday is 1 and Sunday is 7.\n",
    "    # como no me funciona isoweekday uso weekdayy sumo 1\n",
    "    finde_columns['dia_compra'] = finde_columns['id_dim_tiempo_reserva'].dt.weekday + 1\n",
    "    \n",
    "    # cuantas semanas completas de 7 dias (con dos dias de finde) hay en la duracion del viaje?\n",
    "    # trunc(duracion/7)\n",
    "    finde_columns['semanas_completas'] = (finde_columns['duracion']/7).apply(np.floor)\n",
    "    \n",
    "    # resto de dias fuera de semanas completas:\n",
    "    finde_columns['resto'] = finde_columns['duracion'] - finde_columns['semanas_completas'] * 7\n",
    "    \n",
    "    # esto es una adaptacion de esto http://stackoverflow.com/questions/18194404/create-column-with-elif-in-pandas\n",
    "    finde_columns['dias_finde_extra'] = finde_columns.apply(funcMagica, axis=1)\n",
    "   \n",
    "    # ESTA SOLIA SER LA PAPA PERO NO ME SALIO Y tERMINE USANDO LA FUNCMAGICA\n",
    "    #   for index, row in finde_columns.iterrows():\n",
    "#       if row['dia_compra'] == 7:\n",
    "#           row['dias_finde_extra'] = 1\n",
    "#      elif row['dia_compra'] + row['resto'] == 7:\n",
    "#           row['dias_finde_extra'] = 1\n",
    "#      elif row['dia_compra'] + row['resto'] > 7:\n",
    "#           row['dias_finde_extra'] = 2\n",
    "#       else:\n",
    "#           row['dias_finde_extra'] = 0\n",
    "\n",
    "    # Saco el numero de dias de finde (dos por semana completa, mas los dias extra)\n",
    "    finde_columns['dias_finde'] = finde_columns['semanas_completas'] * 2 + finde_columns['dias_finde_extra'] \n",
    "\n",
    "    # saco el ratio \"dias de finde\" / \"duracion\" del viaje\n",
    "    finde_columns['ratio_finde'] = finde_columns['dias_finde'] / finde_columns['duracion']\n",
    "\n",
    "    return actions.join(DataFrame(finde_columns['ratio_finde']))\n",
    "\n",
    "    #return finde_columns\n",
    "    \n",
    "\n",
    "    data = ratioFinde(data)"
   ]
  },
  {
   "cell_type": "code",
   "execution_count": null,
   "metadata": {
    "collapsed": true
   },
   "outputs": [],
   "source": [
    "#Se aplica a cada columna de fecha de la que quiero saber el dia de la semana\n",
    "\n",
    "def dayOfWeek(date_series): \n",
    "\n",
    "    nameday_series = []\n",
    "    \n",
    "    weekday_series = date_series.dt.weekday + 1\n",
    "\n",
    "    for index, value in weekday_series.iteritems():\n",
    "        if value == 1:\n",
    "            nameday_series.append(\"Monday\")\n",
    "        elif value == 2:\n",
    "            nameday_series.append(\"Tuesday\")\n",
    "        elif value == 3:\n",
    "            nameday_series.append(\"Wednesday\")\n",
    "        elif value == 4:\n",
    "            nameday_series.append(\"Thursday\")\n",
    "        elif value == 5:\n",
    "            nameday_series.append(\"Friday\")\n",
    "        elif value == 5:\n",
    "            nameday_series.append(\"Saturday\")        \n",
    "        else:\n",
    "            nameday_series.append(\"Sunday\")\n",
    "    \n",
    "    return nameday_series"
   ]
  },
  {
   "cell_type": "code",
   "execution_count": null,
   "metadata": {
    "collapsed": true
   },
   "outputs": [],
   "source": [
    "# aplico la funcion dayOfWeek para obtener el nombre del dia de la semana en las columnas de fecha\n",
    "data['dia_sem_reserva'] = dayOfWeek(data['id_dim_tiempo_reserva'])\n",
    "data['dia_sem_ci'] = dayOfWeek(data['id_dim_tiempo_checkin'])\n",
    "data['dia_sem_co'] = dayOfWeek(data['id_dim_tiempo_checkout'])"
   ]
  },
  {
   "cell_type": "markdown",
   "metadata": {},
   "source": [
    "#### Variables categóricas a numéricas"
   ]
  },
  {
   "cell_type": "code",
   "execution_count": null,
   "metadata": {
    "collapsed": true
   },
   "outputs": [],
   "source": [
    "# El problema es que k-means necesita computar means. no va para variables categoricas. \n",
    "# k-modes si pero cambia el resultado dependiendo del punto de partida.\n",
    "# asi que paso a binomial. A mano. arbitrario\n",
    "\n",
    "# CAMBIO EL DIA DE LA SEMANA POR FINDE/NO FINDE\n",
    "#Se aplica a cada columna de fecha luego de aplicar la funcion del dia de la semana\n",
    "\n",
    "def diaFinde(dias_de_finde, day_name_series): \n",
    "\n",
    "    findeday_series = day_name_series.apply(lambda x: 1 if (x in dias_de_finde) else 0)\n",
    "            \n",
    "    return findeday_series\n",
    "\n",
    "# aplico la funcion dayOfWeek para obtener el nombre del dia de la semana en las columnas de fecha\n",
    "# compra_finde = si compra sabado o domingo\n",
    "# ci_finde = si hace check in jueves, viernes o sabado\n",
    "# co_finde = si hace check out sabado, domingo o lunes\n",
    "\n",
    "data['reserva_finde'] = diaFinde(['Saturday', 'Sunday'], data['dia_sem_reserva'])\n",
    "data['ci_finde'] = diaFinde(['Thursday', 'Friday', 'Saturday'], data['dia_sem_ci'])\n",
    "data['co_finde'] = diaFinde(['Saturday', 'Sunday', 'Monday'], data['dia_sem_co'])"
   ]
  },
  {
   "cell_type": "code",
   "execution_count": null,
   "metadata": {
    "collapsed": true
   },
   "outputs": [],
   "source": [
    "# CAMBIO MAIL TYPE POR CONSUMER/NO CONSUMER\n",
    "data['consumer_mail'] = data['mail_type'].apply(lambda x: 1 if (x == \"consumer_mail\") else 0)"
   ]
  },
  {
   "cell_type": "code",
   "execution_count": null,
   "metadata": {
    "collapsed": true
   },
   "outputs": [],
   "source": [
    "# CAMBIO TRAVELER POR 3 DUMMIES: COUPLE/NOT COUPLE y SINGLE/NOT SINGLE y FAMILY/ NOT FAMILY\n",
    "data['couple'] = data['traveler'].apply(lambda x: 1 if (x == \"couple\") else 0)\n",
    "data['single'] = data['traveler'].apply(lambda x: 1 if (x == \"single\") else 0)\n",
    "data['family'] = data['traveler'].apply(lambda x: 1 if (x == \"family\") else 0)"
   ]
  },
  {
   "cell_type": "code",
   "execution_count": null,
   "metadata": {
    "collapsed": true
   },
   "outputs": [],
   "source": [
    "data"
   ]
  },
  {
   "cell_type": "markdown",
   "metadata": {},
   "source": [
    "#### Dataset final"
   ]
  },
  {
   "cell_type": "code",
   "execution_count": null,
   "metadata": {
    "collapsed": true
   },
   "outputs": [],
   "source": [
    "#elijo las variables de mi modelo\n",
    "columns = data.columns\n",
    "features_for_model = [column for column in columns if column in ('anticipacion','duracion','gb_roomnight','mail_type'\n",
    "                                                                'traveler', 'ratio_finde', 'reserva_finde', 'ci_finde',\n",
    "                                                                 'co_finde', 'consumer_mail', 'couple', 'single', 'family')]   \n",
    "Y = data['hoteldespegarid'].values\n",
    "X = data[features_for_model]"
   ]
  },
  {
   "cell_type": "markdown",
   "metadata": {},
   "source": [
    "### K Time"
   ]
  },
  {
   "cell_type": "code",
   "execution_count": null,
   "metadata": {
    "collapsed": true
   },
   "outputs": [],
   "source": [
    "#### Primero creo las categorías con K-means, después clasifico los hotel ids en categorías.\n",
    "\n",
    "__init__(n_clusters=10, init='k-means++', n_init=10, max_iter=300, tol=0.0001, precompute_distances='auto', \n",
    "         verbose=0, random_state=None, copy_x=True, n_jobs=1)\n",
    "\n",
    "hpc = X.values\n",
    "\n",
    "kmeans = KMeans()\n",
    "kmeans.fit(hpc)"
   ]
  },
  {
   "cell_type": "code",
   "execution_count": null,
   "metadata": {
    "collapsed": true
   },
   "outputs": [],
   "source": [
    "# Comparo métodos de K Means\n",
    "\n",
    "np.random.seed(42)\n",
    "\n",
    "digits = X.as_matrix()"
   ]
  },
  {
   "cell_type": "code",
   "execution_count": null,
   "metadata": {
    "collapsed": true
   },
   "outputs": [],
   "source": [
    "X_scaled = preprocessing.scale(digits)"
   ]
  },
  {
   "cell_type": "code",
   "execution_count": null,
   "metadata": {
    "collapsed": true
   },
   "outputs": [],
   "source": [
    "X_scaled"
   ]
  },
  {
   "cell_type": "code",
   "execution_count": null,
   "metadata": {
    "collapsed": true
   },
   "outputs": [],
   "source": [
    "#http://blog.josephmisiti.com/help-commands-for-doing-machine-learning-in-python\n",
    "    \n",
    "n_samples, n_features = data.shape\n",
    "n_digits = len(np.unique(X_scaled.target))\n",
    "labels = X_scaled.target\n",
    "\n",
    "sample_size = 300\n",
    "\n",
    "print(\"n_digits: %d, \\t n_samples %d, \\t n_features %d\"\n",
    "      % (n_digits, n_samples, n_features))\n",
    "\n",
    "\n",
    "print(79 * '_')\n",
    "print('% 9s' % 'init'\n",
    "      '    time  inertia    homo   compl  v-meas     ARI AMI  silhouette')\n",
    "\n",
    "def bench_k_means(estimator, name, data):\n",
    "    t0 = time()\n",
    "    estimator.fit(data)\n",
    "    print('% 9s   %.2fs    %i   %.3f   %.3f   %.3f   %.3f   %.3f    %.3f'\n",
    "          % (name, (time() - t0), estimator.inertia_,\n",
    "             metrics.homogeneity_score(labels, estimator.labels_),\n",
    "             metrics.completeness_score(labels, estimator.labels_),\n",
    "             metrics.v_measure_score(labels, estimator.labels_),\n",
    "             metrics.adjusted_rand_score(labels, estimator.labels_),\n",
    "             metrics.adjusted_mutual_info_score(labels,  estimator.labels_),\n",
    "             metrics.silhouette_score(data, estimator.labels_,\n",
    "                                      metric='euclidean',\n",
    "                                      sample_size=sample_size)))\n",
    "\n",
    "bench_k_means(KMeans(init='k-means++', n_clusters=n_digits, n_init=10),\n",
    "              name=\"k-means++\", data=data)\n",
    "\n",
    "bench_k_means(KMeans(init='random', n_clusters=n_digits, n_init=10),\n",
    "              name=\"random\", data=data)\n",
    "# in this case the seeding of the centers is deterministic, hence we run the\n",
    "# kmeans algorithm only once with n_init=1\n",
    "pca = PCA(n_components=n_digits).fit(data)\n",
    "bench_k_means(KMeans(init=pca.components_, n_clusters=n_digits, n_init=1),\n",
    "              name=\"PCA-based\",\n",
    "              data=data)\n",
    "print(79 * '_')"
   ]
  },
  {
   "cell_type": "code",
   "execution_count": null,
   "metadata": {
    "collapsed": true
   },
   "outputs": [],
   "source": [
    "# establezco el criterio de clasificación\n",
    "\n",
    "#classifier = tree.DecisionTreeClassifier()\n",
    "\n",
    "# Set the parameters by cross-validation\n",
    "tuned_parameters = {'criterion': ['gini', 'entropy'], 'splitter': ['best', 'random'], 'max_depth' : [2, 3, 30] }\n",
    "                    \n",
    "score = 'recall'\n",
    "\n",
    "classifier = GridSearchCV(tree.DecisionTreeClassifier(), tuned_parameters, score, cv = 3)"
   ]
  },
  {
   "cell_type": "code",
   "execution_count": null,
   "metadata": {
    "collapsed": true
   },
   "outputs": [],
   "source": [
    "classifier = classifier.fit(X, Y)\n",
    "y_predict = classifier.predict(X)"
   ]
  },
  {
   "cell_type": "code",
   "execution_count": null,
   "metadata": {
    "collapsed": true
   },
   "outputs": [],
   "source": [
    "BD['id_dim_tiempo_reserva'].__class__.__name__"
   ]
  },
  {
   "cell_type": "code",
   "execution_count": null,
   "metadata": {
    "collapsed": true
   },
   "outputs": [],
   "source": [
    "data.to_csv(\"dataSortHotels.csv\", sep=',')"
   ]
  },
  {
   "cell_type": "code",
   "execution_count": null,
   "metadata": {
    "collapsed": true
   },
   "outputs": [],
   "source": [
    "# ver para cuantas ventas tengo tipo de viajero, duracion y dia de check in\n",
    "count_grupo = BD[['tipo viajero','duracion','Dia sem CI']].count()\n",
    "count_grupo"
   ]
  },
  {
   "cell_type": "code",
   "execution_count": null,
   "metadata": {
    "collapsed": true
   },
   "outputs": [],
   "source": [
    "#me quedo con un % random para test y train\n",
    "test = BD.sample(frac=0.1, replace=False)\n",
    "train = BD.sample(frac=0.9, replace=False)"
   ]
  },
  {
   "cell_type": "code",
   "execution_count": null,
   "metadata": {
    "collapsed": true
   },
   "outputs": [],
   "source": [
    "np.abs(test['tipo viajero'])"
   ]
  },
  {
   "cell_type": "code",
   "execution_count": null,
   "metadata": {
    "collapsed": true
   },
   "outputs": [],
   "source": [
    "def loadmatrix(users, features):\n",
    "    #Complete missing values\n",
    "    \n",
    "    users = users.fillna(0)\n",
    "\n",
    "\n",
    "    print users.describe()\n",
    "\n",
    "    for col in users:\n",
    "        if col in features:\n",
    "            X_col = users[col]\n",
    "            users = users[np.abs(X_col - X_col.mean()) <= (3 * X_col.std())]\n",
    "        \n",
    "    print users.describe()\n",
    "    \n",
    "    \n",
    "    y = users['BOUGHT'].values\n",
    "    X = users[features]"
   ]
  },
  {
   "cell_type": "code",
   "execution_count": null,
   "metadata": {
    "collapsed": true
   },
   "outputs": [],
   "source": [
    "to_filter = ['tipo viajero','duracion','hoteldespegarid','anticipacion',\n",
    "                'semailprincipal','id_dim_pais','Mes','Anio','Dia sem CI']\n",
    "\n",
    "for column in to_filter:\n",
    "       users = test[np.abs(test[column] )]"
   ]
  },
  {
   "cell_type": "code",
   "execution_count": null,
   "metadata": {
    "collapsed": true
   },
   "outputs": [],
   "source": [
    "def loadmatrix(users, features):\n",
    "    #Complete missing values\n",
    "    # me quedo solo con estas columnas\n",
    "    to_filter = ['tipo viajero','duracion','hoteldespegarid','anticipacion',\n",
    "                 'semailprincipal','id_dim_pais','Mes','Anio','Dia sem CI']\n",
    "    for column in to_filter:\n",
    "        users = users[np.abs(users[column] )]\n",
    "    for column in to_filter:\n",
    "        users = users[users[columns]]\n",
    "    y = users['Dia sem CI'].values\n",
    "    X = users[features]\n",
    "    return X, y"
   ]
  },
  {
   "cell_type": "code",
   "execution_count": null,
   "metadata": {
    "collapsed": true
   },
   "outputs": [],
   "source": [
    "columns = train.columns\n",
    "features = [column for column in columns if column in ('Cantidad.Adt','Menores','tipo viajero','duracion','hoteldespegarid',\n",
    "                                                       'anticipacion','id_dim_tiempo_checkin','id_dim_tiempo_checkout',\n",
    "                                                       'semailprincipal','id_dim_tiempo_reserva','id_dim_pais','transaction_code',\n",
    "                                                       'Mes','Anio','mes y anio CI','trimestre y anio')]"
   ]
  },
  {
   "cell_type": "code",
   "execution_count": null,
   "metadata": {
    "collapsed": true
   },
   "outputs": [],
   "source": [
    "features"
   ]
  },
  {
   "cell_type": "code",
   "execution_count": null,
   "metadata": {
    "collapsed": true
   },
   "outputs": [],
   "source": [
    "features = ['Cantidad.Adt','Menores','tipo viajero','duracion','hoteldespegarid','anticipacion','id_dim_tiempo_checkin',\n",
    "            'id_dim_tiempo_checkout','semailprincipal','id_dim_tiempo_reserva','id_dim_pais','transaction_code',\n",
    "            'Mes','Anio','mes y anio CI','trimestre y anio']"
   ]
  },
  {
   "cell_type": "code",
   "execution_count": null,
   "metadata": {
    "collapsed": true
   },
   "outputs": [],
   "source": [
    "features"
   ]
  },
  {
   "cell_type": "code",
   "execution_count": null,
   "metadata": {
    "collapsed": true
   },
   "outputs": [],
   "source": [
    "X_train, y_train = loadmatrix(train, features)\n",
    "X_test, y_test = loadmatrix('Dia sem CI', features)"
   ]
  },
  {
   "cell_type": "code",
   "execution_count": null,
   "metadata": {
    "collapsed": true
   },
   "outputs": [],
   "source": [
    "X_train, y_train = loadmatrix(train, features)\n",
    "X_test, y_test = loadmatrix(test, features)"
   ]
  },
  {
   "cell_type": "markdown",
   "metadata": {},
   "source": [
    "#### Extras"
   ]
  },
  {
   "cell_type": "code",
   "execution_count": null,
   "metadata": {
    "collapsed": true
   },
   "outputs": [],
   "source": [
    "### SEPARO MAILS CORPORATE DE CONSUMER\n",
    "\n",
    "# filtro emails para quedarme solo con los de gmail, uol, hotmail, yahoo para diferenciar lo corporate.\n",
    "index_mails_regulares = BD.semailprincipal.str.contains('yahoo|gmail|uol|outlook|hotmail|live', \n",
    "             flags=re.IGNORECASE, regex=True, na=False)\n",
    "\n",
    "# mas sobre regular expressions: https://docs.python.org/3/library/re.html#module-re\n",
    "\n",
    "print index_mails.describe() # el 84% de las observaciones es de alguna cuenta de gmail, hotmail, yahoo, etc.\n",
    "\n",
    "# me quedo solo con las compras de esos mails de consumers\n",
    "BD_cons = BD[index_mails]\n",
    "\n",
    "# me quedo solo con las compras de esos mails de consumers\n",
    "BD_corp = BD[~index_mails]"
   ]
  }
 ],
 "metadata": {
  "kernelspec": {
   "display_name": "Python 2",
   "language": "python",
   "name": "python2"
  },
  "language_info": {
   "codemirror_mode": {
    "name": "ipython",
    "version": 2
   },
   "file_extension": ".py",
   "mimetype": "text/x-python",
   "name": "python",
   "nbconvert_exporter": "python",
   "pygments_lexer": "ipython2",
   "version": "2.7.12"
  }
 },
 "nbformat": 4,
 "nbformat_minor": 1
}
